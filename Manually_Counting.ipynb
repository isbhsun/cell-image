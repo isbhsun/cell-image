{
 "cells": [
  {
   "cell_type": "code",
   "execution_count": 1,
   "metadata": {},
   "outputs": [],
   "source": [
    "import numpy as np\n",
    "import cv2 \n",
    "import pandas as pd"
   ]
  },
  {
   "cell_type": "code",
   "execution_count": 2,
   "metadata": {},
   "outputs": [],
   "source": [
    "def click_event(event, x, y, flags, param):\n",
    "    if event == cv2.EVENT_LBUTTONDOWN:\n",
    "        cv2.circle(img, (x, y), 3, (0, 255, 0), 3)\n",
    "        points['green'] += 1\n",
    "        cv2.imshow('image', img)\n",
    "    if event == cv2.EVENT_RBUTTONDOWN:\n",
    "        cv2.circle(img, (x, y), 3, (0, 0, 255), 3)\n",
    "        points['red'] += 1\n",
    "        cv2.imshow('image', img)"
   ]
  },
  {
   "cell_type": "code",
   "execution_count": 6,
   "metadata": {},
   "outputs": [],
   "source": [
    "image_name = 'H1Bb21-1.tif'\n",
    "image_fp = 'data/' + image_name\n",
    "img = cv2.imread(image_fp)\n",
    "cv2.imshow('image', img)"
   ]
  },
  {
   "cell_type": "code",
   "execution_count": 7,
   "metadata": {},
   "outputs": [],
   "source": [
    "cv2.setMouseCallback('image', click_event)\n",
    "points = {'image_name': image_name,\n",
    "          'green': 0, \n",
    "          'red': 0}\n"
   ]
  },
  {
   "cell_type": "code",
   "execution_count": 8,
   "metadata": {},
   "outputs": [
    {
     "data": {
      "text/plain": [
       "13"
      ]
     },
     "execution_count": 8,
     "metadata": {},
     "output_type": "execute_result"
    }
   ],
   "source": [
    "cv2.waitKey(0)\n"
   ]
  },
  {
   "cell_type": "code",
   "execution_count": null,
   "metadata": {},
   "outputs": [],
   "source": [
    "cv2.destroyWindow('image')"
   ]
  },
  {
   "cell_type": "code",
   "execution_count": 83,
   "metadata": {},
   "outputs": [],
   "source": [
    "df = pd.DataFrame(points, index=[points['image_name']])"
   ]
  },
  {
   "cell_type": "code",
   "execution_count": 84,
   "metadata": {},
   "outputs": [
    {
     "data": {
      "text/html": [
       "<div>\n",
       "<style scoped>\n",
       "    .dataframe tbody tr th:only-of-type {\n",
       "        vertical-align: middle;\n",
       "    }\n",
       "\n",
       "    .dataframe tbody tr th {\n",
       "        vertical-align: top;\n",
       "    }\n",
       "\n",
       "    .dataframe thead th {\n",
       "        text-align: right;\n",
       "    }\n",
       "</style>\n",
       "<table border=\"1\" class=\"dataframe\">\n",
       "  <thead>\n",
       "    <tr style=\"text-align: right;\">\n",
       "      <th></th>\n",
       "      <th>image_name</th>\n",
       "      <th>green</th>\n",
       "      <th>red</th>\n",
       "    </tr>\n",
       "  </thead>\n",
       "  <tbody>\n",
       "    <tr>\n",
       "      <th>N1Bb43-CORTEX_01.tif</th>\n",
       "      <td>N1Bb43-CORTEX_01.tif</td>\n",
       "      <td>0</td>\n",
       "      <td>124</td>\n",
       "    </tr>\n",
       "  </tbody>\n",
       "</table>\n",
       "</div>"
      ],
      "text/plain": [
       "                                image_name  green  red\n",
       "N1Bb43-CORTEX_01.tif  N1Bb43-CORTEX_01.tif      0  124"
      ]
     },
     "execution_count": 84,
     "metadata": {},
     "output_type": "execute_result"
    }
   ],
   "source": [
    "df"
   ]
  },
  {
   "cell_type": "code",
   "execution_count": 85,
   "metadata": {},
   "outputs": [],
   "source": [
    "previous_counts = pd.read_csv('data/manual_cell_counts.csv', index_col='image_name', usecols=['image_name','green', 'red'])\n",
    "previous_counts['image_name'] = previous_counts.index\n",
    "all_counts = previous_counts.append(df)\n",
    "all_counts.to_csv('data/manual_cell_counts.csv')"
   ]
  },
  {
   "cell_type": "code",
   "execution_count": 86,
   "metadata": {},
   "outputs": [
    {
     "data": {
      "text/html": [
       "<div>\n",
       "<style scoped>\n",
       "    .dataframe tbody tr th:only-of-type {\n",
       "        vertical-align: middle;\n",
       "    }\n",
       "\n",
       "    .dataframe tbody tr th {\n",
       "        vertical-align: top;\n",
       "    }\n",
       "\n",
       "    .dataframe thead th {\n",
       "        text-align: right;\n",
       "    }\n",
       "</style>\n",
       "<table border=\"1\" class=\"dataframe\">\n",
       "  <thead>\n",
       "    <tr style=\"text-align: right;\">\n",
       "      <th></th>\n",
       "      <th>green</th>\n",
       "      <th>red</th>\n",
       "      <th>image_name</th>\n",
       "    </tr>\n",
       "  </thead>\n",
       "  <tbody>\n",
       "    <tr>\n",
       "      <th>H1Bb21-1.tif</th>\n",
       "      <td>216</td>\n",
       "      <td>23</td>\n",
       "      <td>H1Bb21-1.tif</td>\n",
       "    </tr>\n",
       "    <tr>\n",
       "      <th>1-DHFR_1.tif</th>\n",
       "      <td>1</td>\n",
       "      <td>152</td>\n",
       "      <td>1-DHFR_1.tif</td>\n",
       "    </tr>\n",
       "    <tr>\n",
       "      <th>1-GTP_1.tif</th>\n",
       "      <td>1</td>\n",
       "      <td>146</td>\n",
       "      <td>1-GTP_1.tif</td>\n",
       "    </tr>\n",
       "    <tr>\n",
       "      <th>2-GCH_8.tif</th>\n",
       "      <td>35</td>\n",
       "      <td>75</td>\n",
       "      <td>2-GCH_8.tif</td>\n",
       "    </tr>\n",
       "    <tr>\n",
       "      <th>2-GTP_11.tif</th>\n",
       "      <td>86</td>\n",
       "      <td>37</td>\n",
       "      <td>2-GTP_11.tif</td>\n",
       "    </tr>\n",
       "    <tr>\n",
       "      <th>N1Bb43-CORTEX_01.tif</th>\n",
       "      <td>0</td>\n",
       "      <td>124</td>\n",
       "      <td>N1Bb43-CORTEX_01.tif</td>\n",
       "    </tr>\n",
       "  </tbody>\n",
       "</table>\n",
       "</div>"
      ],
      "text/plain": [
       "                      green  red            image_name\n",
       "H1Bb21-1.tif            216   23          H1Bb21-1.tif\n",
       "1-DHFR_1.tif              1  152          1-DHFR_1.tif\n",
       "1-GTP_1.tif               1  146           1-GTP_1.tif\n",
       "2-GCH_8.tif              35   75           2-GCH_8.tif\n",
       "2-GTP_11.tif             86   37          2-GTP_11.tif\n",
       "N1Bb43-CORTEX_01.tif      0  124  N1Bb43-CORTEX_01.tif"
      ]
     },
     "execution_count": 86,
     "metadata": {},
     "output_type": "execute_result"
    }
   ],
   "source": [
    "all_counts"
   ]
  },
  {
   "cell_type": "code",
   "execution_count": null,
   "metadata": {},
   "outputs": [],
   "source": []
  }
 ],
 "metadata": {
  "kernelspec": {
   "display_name": "Python 3",
   "language": "python",
   "name": "python3"
  },
  "language_info": {
   "codemirror_mode": {
    "name": "ipython",
    "version": 3
   },
   "file_extension": ".py",
   "mimetype": "text/x-python",
   "name": "python",
   "nbconvert_exporter": "python",
   "pygments_lexer": "ipython3",
   "version": "3.7.9"
  }
 },
 "nbformat": 4,
 "nbformat_minor": 4
}
